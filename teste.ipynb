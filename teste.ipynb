{
 "cells": [
  {
   "cell_type": "code",
   "execution_count": 1,
   "id": "b34978fc",
   "metadata": {},
   "outputs": [
    {
     "name": "stdout",
     "output_type": "stream",
     "text": [
      ">>> CHAVE CARREGADA: sk-proj-xn\n"
     ]
    }
   ],
   "source": [
    "import classificador\n",
    "\n",
    "import openai, json, re, os\n",
    "from dotenv import load_dotenv"
   ]
  },
  {
   "cell_type": "code",
   "execution_count": 2,
   "id": "ae5282b1",
   "metadata": {},
   "outputs": [
    {
     "name": "stdout",
     "output_type": "stream",
     "text": [
      "{'categoria': 'Produtivo', 'resposta': 'Claro, por favor nos envie os dados que precisam ser atualizados para que possamos realizar a atualização do seu cadastro. Obrigado pela sua solicitação.', 'msg': 'Preciso que atualizem meu cadastro urgente.'}\n"
     ]
    }
   ],
   "source": [
    "result = classificador.classify_and_respond(\"Preciso que atualizem meu cadastro urgente.\")\n",
    "print(result)"
   ]
  },
  {
   "cell_type": "code",
   "execution_count": 12,
   "id": "8764a243",
   "metadata": {},
   "outputs": [
    {
     "name": "stdout",
     "output_type": "stream",
     "text": [
      "('Produtivo', 'Claro, por favor nos envie os dados que precisam ser atualizados para que possamos realizar a atualização do seu cadastro. Obrigado pela sua solicitação.')\n"
     ]
    }
   ],
   "source": [
    "\n",
    "print(result)"
   ]
  },
  {
   "cell_type": "code",
   "execution_count": 7,
   "id": "9fbb5499",
   "metadata": {},
   "outputs": [
    {
     "name": "stdout",
     "output_type": "stream",
     "text": [
      ">>> CHAVE CARREGADA: sk-proj-xnd3m2jNIrsiHLb8xziAT3\n"
     ]
    }
   ],
   "source": [
    "# --- Carregar variáveis do .env ---\n",
    "load_dotenv()\n",
    "openai.api_key = os.getenv(\"OPENAI_API_KEY\")\n",
    "if not openai.api_key:\n",
    "    print(\"⚠️ Chave da OpenAI não encontrada. Coloque no .env\")\n",
    "    exit()\n",
    "\n",
    "print(\">>> CHAVE CARREGADA:\", openai.api_key[:30])\n"
   ]
  },
  {
   "cell_type": "code",
   "execution_count": 8,
   "id": "2954cbb4",
   "metadata": {},
   "outputs": [],
   "source": [
    "email_text = \"Preciso que atualizem meu cadastro urgente.\""
   ]
  },
  {
   "cell_type": "code",
   "execution_count": 9,
   "id": "a85dd468",
   "metadata": {},
   "outputs": [],
   "source": [
    "prompt = f\"\"\"\n",
    "Você é um classificador de emails.  \n",
    "Retorne apenas JSON válido no formato:\n",
    "\n",
    "{{\n",
    "  \"categoria\": \"Produtivo\" ou \"Improdutivo\",\n",
    "  \"resposta\": \"Texto da resposta sugerida\"\n",
    "}}\n",
    "\n",
    "Regras:\n",
    "- \"Produtivo\": requer ação ou resposta (ex.: solicitação, dúvidas, documentos).\n",
    "- \"Improdutivo\": não requer ação (ex.: agradecimento, parabéns, mensagens sociais).\n",
    "\n",
    "Email:\n",
    "\\\"\\\"\\\"{email_text}\\\"\\\"\\\"\n",
    "\"\"\"\n",
    "response = openai.chat.completions.create(\n",
    "        model=\"gpt-3.5-turbo\",\n",
    "        messages=[{\"role\": \"user\", \"content\": prompt}],\n",
    "        max_tokens=200,\n",
    "        temperature=0\n",
    "    )\n",
    "\n",
    "content = response.choices[0].message.content.strip()"
   ]
  },
  {
   "cell_type": "code",
   "execution_count": 10,
   "id": "842a55e5",
   "metadata": {},
   "outputs": [
    {
     "data": {
      "text/plain": [
       "'{\\n  \"categoria\": \"Produtivo\",\\n  \"resposta\": \"Claro, por favor nos envie os dados que precisam ser atualizados para que possamos realizar a atualização do seu cadastro. Obrigado pela sua solicitação.\"\\n}'"
      ]
     },
     "execution_count": 10,
     "metadata": {},
     "output_type": "execute_result"
    }
   ],
   "source": [
    "content"
   ]
  }
 ],
 "metadata": {
  "kernelspec": {
   "display_name": "venv",
   "language": "python",
   "name": "python3"
  },
  "language_info": {
   "codemirror_mode": {
    "name": "ipython",
    "version": 3
   },
   "file_extension": ".py",
   "mimetype": "text/x-python",
   "name": "python",
   "nbconvert_exporter": "python",
   "pygments_lexer": "ipython3",
   "version": "3.12.6"
  }
 },
 "nbformat": 4,
 "nbformat_minor": 5
}
